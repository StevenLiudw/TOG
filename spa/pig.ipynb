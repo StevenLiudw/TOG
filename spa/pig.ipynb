{
 "cells": [
  {
   "cell_type": "code",
   "execution_count": 1,
   "metadata": {},
   "outputs": [
    {
     "name": "stdout",
     "output_type": "stream",
     "text": [
      "Jupyter environment detected. Enabling Open3D WebVisualizer.\n",
      "[Open3D INFO] WebRTC GUI backend enabled.\n",
      "[Open3D INFO] WebRTCWindowSystem: HTTP handshake server disabled.\n",
      "Visualizing filtered_combined_point_cloud_20241101_124401.ply\n",
      "Visualizing filtered_combined_point_cloud_20241101_124359.ply\n",
      "Visualizing filtered_combined_point_cloud_20241101_124400.ply\n",
      "Visualizing filtered_combined_point_cloud_20241101_124358.ply\n",
      "Visualizing filtered_combined_point_cloud_20241101_124403.ply\n"
     ]
    }
   ],
   "source": [
    "import open3d as o3d\n",
    "import os\n",
    "\n",
    "# Define the directory where point cloud files are stored\n",
    "load_dir = \"/home/stevenliudw/jiaming/LIPPcopy/hahafinal\"\n",
    "\n",
    "# List all .ply files in the directory\n",
    "ply_files = [f for f in os.listdir(load_dir) if f.endswith('.ply')]\n",
    "\n",
    "# Visualize each point cloud individually\n",
    "for ply_file in ply_files:\n",
    "    # Construct the full path to the .ply file\n",
    "    file_path = os.path.join(load_dir, ply_file)\n",
    "    \n",
    "    # Load the point cloud using Open3D\n",
    "    point_cloud = o3d.io.read_point_cloud(file_path)\n",
    "    \n",
    "    # Display the point cloud\n",
    "    print(f\"Visualizing {ply_file}\")\n",
    "    o3d.visualization.draw_geometries([point_cloud])\n",
    "\n",
    "# Optional: To visualize all point clouds in one viewer, uncomment the following:\n",
    "# combined_clouds = []\n",
    "# for ply_file in ply_files:\n",
    "#     file_path = os.path.join(load_dir, ply_file)\n",
    "#     point_cloud = o3d.io.read_point_cloud(file_path)\n",
    "#     combined_clouds.append(point_cloud)\n",
    "\n",
    "# # Display all point clouds together\n",
    "# o3d.visualization.draw_geometries(combined_clouds)\n"
   ]
  }
 ],
 "metadata": {
  "kernelspec": {
   "display_name": "Python 3",
   "language": "python",
   "name": "python3"
  },
  "language_info": {
   "codemirror_mode": {
    "name": "ipython",
    "version": 3
   },
   "file_extension": ".py",
   "mimetype": "text/x-python",
   "name": "python",
   "nbconvert_exporter": "python",
   "pygments_lexer": "ipython3",
   "version": "3.9.19"
  }
 },
 "nbformat": 4,
 "nbformat_minor": 2
}
